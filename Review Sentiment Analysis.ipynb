{
 "cells": [
  {
   "cell_type": "code",
   "execution_count": 1,
   "id": "a1a2e703",
   "metadata": {},
   "outputs": [],
   "source": [
    "import pandas as pd\n",
    "import re\n",
    "\n",
    "from nltk.corpus import stopwords\n",
    "stop_words = list(set(stopwords.words('english')))\n",
    "stop_words.extend(['from', 'subject', 're', 'edu', 'use','http'])\n",
    "\n",
    "from textblob import TextBlob\n"
   ]
  },
  {
   "cell_type": "code",
   "execution_count": 2,
   "id": "553b5436",
   "metadata": {},
   "outputs": [],
   "source": [
    "# Load Data\n",
    "path = 'D:/JOB PREP/Projects/Data Science at British Airways/'\n",
    "df = pd.read_csv(path+\"data/BA_reviews.csv\")"
   ]
  },
  {
   "cell_type": "markdown",
   "id": "752b2838",
   "metadata": {},
   "source": [
    "### Preprocessing / Data Cleaning"
   ]
  },
  {
   "cell_type": "code",
   "execution_count": 3,
   "id": "78394f08",
   "metadata": {},
   "outputs": [],
   "source": [
    "#lowercase & puntuation\n",
    "def lowerPunc(element):\n",
    "    s = ''.join([char for char in element.lower() if char.isalpha() or char.isspace()])\n",
    "    return s\n",
    "\n",
    "#remove stopwords\n",
    "def remove_stopwords(text):\n",
    "    return \" \".join([word for word in str(text).split() if word not in stop_words])\n"
   ]
  },
  {
   "cell_type": "code",
   "execution_count": 4,
   "id": "60197fa6",
   "metadata": {},
   "outputs": [
    {
     "name": "stderr",
     "output_type": "stream",
     "text": [
      "C:\\Users\\anjal\\AppData\\Local\\Temp\\ipykernel_20632\\296908727.py:4: FutureWarning: In a future version of pandas all arguments of StringMethods.split except for the argument 'pat' will be keyword-only.\n",
      "  df = df[var].str.split('|', 1, expand=True).rename(columns={1:var})\n"
     ]
    },
    {
     "data": {
      "text/html": [
       "<div>\n",
       "<style scoped>\n",
       "    .dataframe tbody tr th:only-of-type {\n",
       "        vertical-align: middle;\n",
       "    }\n",
       "\n",
       "    .dataframe tbody tr th {\n",
       "        vertical-align: top;\n",
       "    }\n",
       "\n",
       "    .dataframe thead th {\n",
       "        text-align: right;\n",
       "    }\n",
       "</style>\n",
       "<table border=\"1\" class=\"dataframe\">\n",
       "  <thead>\n",
       "    <tr style=\"text-align: right;\">\n",
       "      <th></th>\n",
       "      <th>reviews</th>\n",
       "    </tr>\n",
       "  </thead>\n",
       "  <tbody>\n",
       "    <tr>\n",
       "      <th>0</th>\n",
       "      <td>worst cabin experience ever cramped seats low ...</td>\n",
       "    </tr>\n",
       "    <tr>\n",
       "      <th>1</th>\n",
       "      <td>first time flying british airways first time f...</td>\n",
       "    </tr>\n",
       "    <tr>\n",
       "      <th>2</th>\n",
       "      <td>latest affront stood first class line hour fin...</td>\n",
       "    </tr>\n",
       "    <tr>\n",
       "      <th>3</th>\n",
       "      <td>booked flight return flight london munich dece...</td>\n",
       "    </tr>\n",
       "    <tr>\n",
       "      <th>4</th>\n",
       "      <td>tried check line informed possible given reaso...</td>\n",
       "    </tr>\n",
       "  </tbody>\n",
       "</table>\n",
       "</div>"
      ],
      "text/plain": [
       "                                             reviews\n",
       "0  worst cabin experience ever cramped seats low ...\n",
       "1  first time flying british airways first time f...\n",
       "2  latest affront stood first class line hour fin...\n",
       "3  booked flight return flight london munich dece...\n",
       "4  tried check line informed possible given reaso..."
      ]
     },
     "execution_count": 4,
     "metadata": {},
     "output_type": "execute_result"
    }
   ],
   "source": [
    "import nltk\n",
    "def data_cleaning(df,var):\n",
    "    # Removed futile text from the data\n",
    "    df = df[var].str.split('|', 1, expand=True).rename(columns={1:var})\n",
    "    df[var] = df[var].fillna(df[0])\n",
    "    df = df.drop(0,axis=1)\n",
    "    \n",
    "    #lowercase & puntuation\n",
    "    df[var] = df[var].apply(lowerPunc)\n",
    "    \n",
    "    #remove stopwords\n",
    "    df[var] = df[var].apply(lambda x: remove_stopwords(x))\n",
    "\n",
    "    # Remove extra space\n",
    "    df[var] = df[var].apply(lambda text: re.sub(' +', ' ', text))\n",
    "    \n",
    "    return df\n",
    "\n",
    "df = data_cleaning(df,'reviews')\n",
    "df.head()"
   ]
  },
  {
   "cell_type": "markdown",
   "id": "3ae84b8d",
   "metadata": {},
   "source": [
    "### Sentiment Analysis"
   ]
  },
  {
   "cell_type": "code",
   "execution_count": 5,
   "id": "f2d010d9",
   "metadata": {},
   "outputs": [
    {
     "data": {
      "text/html": [
       "<div>\n",
       "<style scoped>\n",
       "    .dataframe tbody tr th:only-of-type {\n",
       "        vertical-align: middle;\n",
       "    }\n",
       "\n",
       "    .dataframe tbody tr th {\n",
       "        vertical-align: top;\n",
       "    }\n",
       "\n",
       "    .dataframe thead th {\n",
       "        text-align: right;\n",
       "    }\n",
       "</style>\n",
       "<table border=\"1\" class=\"dataframe\">\n",
       "  <thead>\n",
       "    <tr style=\"text-align: right;\">\n",
       "      <th></th>\n",
       "      <th>reviews</th>\n",
       "      <th>polarity</th>\n",
       "    </tr>\n",
       "  </thead>\n",
       "  <tbody>\n",
       "    <tr>\n",
       "      <th>0</th>\n",
       "      <td>worst cabin experience ever cramped seats low ...</td>\n",
       "      <td>-0.380000</td>\n",
       "    </tr>\n",
       "    <tr>\n",
       "      <th>1</th>\n",
       "      <td>first time flying british airways first time f...</td>\n",
       "      <td>0.176719</td>\n",
       "    </tr>\n",
       "    <tr>\n",
       "      <th>2</th>\n",
       "      <td>latest affront stood first class line hour fin...</td>\n",
       "      <td>0.182857</td>\n",
       "    </tr>\n",
       "    <tr>\n",
       "      <th>3</th>\n",
       "      <td>booked flight return flight london munich dece...</td>\n",
       "      <td>0.062500</td>\n",
       "    </tr>\n",
       "    <tr>\n",
       "      <th>4</th>\n",
       "      <td>tried check line informed possible given reaso...</td>\n",
       "      <td>-0.083333</td>\n",
       "    </tr>\n",
       "    <tr>\n",
       "      <th>5</th>\n",
       "      <td>catalogue failures flew belfast heathrow week ...</td>\n",
       "      <td>-0.033333</td>\n",
       "    </tr>\n",
       "    <tr>\n",
       "      <th>6</th>\n",
       "      <td>flight dubrovnik painful time morning london g...</td>\n",
       "      <td>0.143747</td>\n",
       "    </tr>\n",
       "    <tr>\n",
       "      <th>7</th>\n",
       "      <td>could give minus rating would supposed lhrams ...</td>\n",
       "      <td>0.066667</td>\n",
       "    </tr>\n",
       "    <tr>\n",
       "      <th>8</th>\n",
       "      <td>plane hour late leaving problem happen arrival...</td>\n",
       "      <td>0.166667</td>\n",
       "    </tr>\n",
       "    <tr>\n",
       "      <th>9</th>\n",
       "      <td>flying world traveller plus premium service pr...</td>\n",
       "      <td>0.032222</td>\n",
       "    </tr>\n",
       "  </tbody>\n",
       "</table>\n",
       "</div>"
      ],
      "text/plain": [
       "                                             reviews  polarity\n",
       "0  worst cabin experience ever cramped seats low ... -0.380000\n",
       "1  first time flying british airways first time f...  0.176719\n",
       "2  latest affront stood first class line hour fin...  0.182857\n",
       "3  booked flight return flight london munich dece...  0.062500\n",
       "4  tried check line informed possible given reaso... -0.083333\n",
       "5  catalogue failures flew belfast heathrow week ... -0.033333\n",
       "6  flight dubrovnik painful time morning london g...  0.143747\n",
       "7  could give minus rating would supposed lhrams ...  0.066667\n",
       "8  plane hour late leaving problem happen arrival...  0.166667\n",
       "9  flying world traveller plus premium service pr...  0.032222"
      ]
     },
     "execution_count": 5,
     "metadata": {},
     "output_type": "execute_result"
    }
   ],
   "source": [
    "def sentiment(text):\n",
    "    senti =TextBlob(text)\n",
    "    return senti.sentiment\n",
    "\n",
    "df['polarity']=df['reviews'].apply(sentiment).apply(lambda b: b[0])\n",
    "\n",
    "df.head(10)"
   ]
  },
  {
   "cell_type": "code",
   "execution_count": 6,
   "id": "d33a2122",
   "metadata": {},
   "outputs": [
    {
     "data": {
      "text/html": [
       "<div>\n",
       "<style scoped>\n",
       "    .dataframe tbody tr th:only-of-type {\n",
       "        vertical-align: middle;\n",
       "    }\n",
       "\n",
       "    .dataframe tbody tr th {\n",
       "        vertical-align: top;\n",
       "    }\n",
       "\n",
       "    .dataframe thead th {\n",
       "        text-align: right;\n",
       "    }\n",
       "</style>\n",
       "<table border=\"1\" class=\"dataframe\">\n",
       "  <thead>\n",
       "    <tr style=\"text-align: right;\">\n",
       "      <th></th>\n",
       "      <th>reviews</th>\n",
       "      <th>polarity</th>\n",
       "      <th>review_sentiment</th>\n",
       "    </tr>\n",
       "  </thead>\n",
       "  <tbody>\n",
       "    <tr>\n",
       "      <th>0</th>\n",
       "      <td>worst cabin experience ever cramped seats low ...</td>\n",
       "      <td>-0.380000</td>\n",
       "      <td>negative</td>\n",
       "    </tr>\n",
       "    <tr>\n",
       "      <th>1</th>\n",
       "      <td>first time flying british airways first time f...</td>\n",
       "      <td>0.176719</td>\n",
       "      <td>positive</td>\n",
       "    </tr>\n",
       "    <tr>\n",
       "      <th>2</th>\n",
       "      <td>latest affront stood first class line hour fin...</td>\n",
       "      <td>0.182857</td>\n",
       "      <td>positive</td>\n",
       "    </tr>\n",
       "    <tr>\n",
       "      <th>3</th>\n",
       "      <td>booked flight return flight london munich dece...</td>\n",
       "      <td>0.062500</td>\n",
       "      <td>positive</td>\n",
       "    </tr>\n",
       "    <tr>\n",
       "      <th>4</th>\n",
       "      <td>tried check line informed possible given reaso...</td>\n",
       "      <td>-0.083333</td>\n",
       "      <td>negative</td>\n",
       "    </tr>\n",
       "    <tr>\n",
       "      <th>5</th>\n",
       "      <td>catalogue failures flew belfast heathrow week ...</td>\n",
       "      <td>-0.033333</td>\n",
       "      <td>negative</td>\n",
       "    </tr>\n",
       "    <tr>\n",
       "      <th>6</th>\n",
       "      <td>flight dubrovnik painful time morning london g...</td>\n",
       "      <td>0.143747</td>\n",
       "      <td>positive</td>\n",
       "    </tr>\n",
       "    <tr>\n",
       "      <th>7</th>\n",
       "      <td>could give minus rating would supposed lhrams ...</td>\n",
       "      <td>0.066667</td>\n",
       "      <td>positive</td>\n",
       "    </tr>\n",
       "    <tr>\n",
       "      <th>8</th>\n",
       "      <td>plane hour late leaving problem happen arrival...</td>\n",
       "      <td>0.166667</td>\n",
       "      <td>positive</td>\n",
       "    </tr>\n",
       "    <tr>\n",
       "      <th>9</th>\n",
       "      <td>flying world traveller plus premium service pr...</td>\n",
       "      <td>0.032222</td>\n",
       "      <td>positive</td>\n",
       "    </tr>\n",
       "  </tbody>\n",
       "</table>\n",
       "</div>"
      ],
      "text/plain": [
       "                                             reviews  polarity  \\\n",
       "0  worst cabin experience ever cramped seats low ... -0.380000   \n",
       "1  first time flying british airways first time f...  0.176719   \n",
       "2  latest affront stood first class line hour fin...  0.182857   \n",
       "3  booked flight return flight london munich dece...  0.062500   \n",
       "4  tried check line informed possible given reaso... -0.083333   \n",
       "5  catalogue failures flew belfast heathrow week ... -0.033333   \n",
       "6  flight dubrovnik painful time morning london g...  0.143747   \n",
       "7  could give minus rating would supposed lhrams ...  0.066667   \n",
       "8  plane hour late leaving problem happen arrival...  0.166667   \n",
       "9  flying world traveller plus premium service pr...  0.032222   \n",
       "\n",
       "  review_sentiment  \n",
       "0         negative  \n",
       "1         positive  \n",
       "2         positive  \n",
       "3         positive  \n",
       "4         negative  \n",
       "5         negative  \n",
       "6         positive  \n",
       "7         positive  \n",
       "8         positive  \n",
       "9         positive  "
      ]
     },
     "execution_count": 6,
     "metadata": {},
     "output_type": "execute_result"
    }
   ],
   "source": [
    "# identify category\n",
    "def categories(pol):\n",
    "    if pol>0:\n",
    "        return 'positive'\n",
    "    elif pol==0:\n",
    "        return 'neutral'\n",
    "    else:\n",
    "        return 'negative'\n",
    "    \n",
    "df['review_sentiment']=df['polarity'].apply(categories)\n",
    "df.head(10)"
   ]
  },
  {
   "cell_type": "code",
   "execution_count": 7,
   "id": "a27d1ef9",
   "metadata": {},
   "outputs": [
    {
     "data": {
      "text/plain": [
       "positive    2503\n",
       "negative     970\n",
       "neutral       22\n",
       "Name: review_sentiment, dtype: int64"
      ]
     },
     "execution_count": 7,
     "metadata": {},
     "output_type": "execute_result"
    }
   ],
   "source": [
    "df['review_sentiment'].value_counts()"
   ]
  },
  {
   "cell_type": "code",
   "execution_count": 8,
   "id": "1b36144a",
   "metadata": {},
   "outputs": [
    {
     "data": {
      "text/plain": [
       "positive    0.716166\n",
       "negative    0.277539\n",
       "neutral     0.006295\n",
       "Name: review_sentiment, dtype: float64"
      ]
     },
     "execution_count": 8,
     "metadata": {},
     "output_type": "execute_result"
    }
   ],
   "source": [
    "df['review_sentiment'].value_counts(normalize=True)"
   ]
  },
  {
   "cell_type": "code",
   "execution_count": null,
   "id": "2fa39a10",
   "metadata": {},
   "outputs": [],
   "source": []
  }
 ],
 "metadata": {
  "kernelspec": {
   "display_name": "Python 3 (ipykernel)",
   "language": "python",
   "name": "python3"
  },
  "language_info": {
   "codemirror_mode": {
    "name": "ipython",
    "version": 3
   },
   "file_extension": ".py",
   "mimetype": "text/x-python",
   "name": "python",
   "nbconvert_exporter": "python",
   "pygments_lexer": "ipython3",
   "version": "3.9.7"
  }
 },
 "nbformat": 4,
 "nbformat_minor": 5
}
